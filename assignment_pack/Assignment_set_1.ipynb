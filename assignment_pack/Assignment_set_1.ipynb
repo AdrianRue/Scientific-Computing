{
 "cells": [
  {
   "cell_type": "markdown",
   "metadata": {},
   "source": [
    "### **Assignment_Set_1**"
   ]
  },
  {
   "cell_type": "code",
   "execution_count": null,
   "metadata": {
    "ExecuteTime": {
     "end_time": "2024-02-20T21:55:51.605108900Z",
     "start_time": "2024-02-20T21:55:51.589071300Z"
    }
   },
   "outputs": [],
   "source": [
    "%matplotlib widget"
   ]
  },
  {
   "cell_type": "code",
   "execution_count": null,
   "metadata": {
    "ExecuteTime": {
     "end_time": "2024-02-20T21:55:54.580396400Z",
     "start_time": "2024-02-20T21:55:54.421829400Z"
    }
   },
   "outputs": [],
   "source": [
    "import numpy as np\n",
    "import matplotlib.pyplot as plt\n",
    "from vibrating_string import WaveSimulation, AnimatedWaveSimulation\n",
    "from diffusion_time_dependent import DiffusionSimulation\n",
    "from diffusion_steady_state import DiffusionSolver\n",
    "from utilities import * "
   ]
  },
  {
   "cell_type": "markdown",
   "metadata": {},
   "source": [
    "#### **Problem B**"
   ]
  },
  {
   "cell_type": "code",
   "execution_count": null,
   "metadata": {
    "ExecuteTime": {
     "end_time": "2024-02-20T21:56:04.913035600Z",
     "start_time": "2024-02-20T21:56:04.848086200Z"
    }
   },
   "outputs": [],
   "source": [
    "wave_sim = WaveSimulation(L=1, N=200, c=1, d_t=0.001)\n",
    "initial_condition_1 = lambda x: np.sin(2 * np.pi * x)\n",
    "wave_sim.set_initial_condition(initial_condition_1)\n",
    "plot_times = [0, 0.05, 0.1, 0.15, 0.199]\n",
    "wave_sim.plot(plot_times, title=\"Wave Propagation - $\\sin(2 \\pi x)$\")"
   ]
  },
  {
   "cell_type": "code",
   "execution_count": null,
   "metadata": {
    "ExecuteTime": {
     "end_time": "2024-02-20T20:26:45.485776800Z",
     "start_time": "2024-02-20T20:26:45.204241200Z"
    }
   },
   "outputs": [],
   "source": [
    "initial_condition_2 = lambda x: np.sin(5 * np.pi * x)\n",
    "wave_sim.set_initial_condition(initial_condition_2)\n",
    "plot_times = [0, 0.05, 0.1, 0.15, 0.199]\n",
    "wave_sim.plot(plot_times, title=\"Wave Propagation - $\\sin(5 \\pi x)$\")"
   ]
  },
  {
   "cell_type": "code",
   "execution_count": null,
   "metadata": {
    "ExecuteTime": {
     "end_time": "2024-02-20T20:26:47.796357Z",
     "start_time": "2024-02-20T20:26:47.533931600Z"
    }
   },
   "outputs": [],
   "source": [
    "initial_condition_3 = lambda x: np.where((x > 1/5) & (x < 2/5), np.sin(5 * np.pi * x), 0)\n",
    "wave_sim.set_initial_condition(initial_condition_3)\n",
    "plot_times = [0, 0.05, 0.1, 0.15, 0.199]\n",
    "wave_sim.plot(plot_times, title=\"Wave Propagation - $\\sin(5 \\pi x)$\")"
   ]
  },
  {
   "cell_type": "markdown",
   "metadata": {},
   "source": [
    "#### **Problem C**"
   ]
  },
  {
   "cell_type": "code",
   "execution_count": null,
   "metadata": {},
   "outputs": [],
   "source": [
    "# Initial condition one\n",
    "animated_wave_sim = AnimatedWaveSimulation(L=1, N=200, c=1, d_t=0.001)\n",
    "initial_condition_1a = lambda x: np.sin(2 * np.pi * x)\n",
    "animated_wave_sim.set_initial_condition(initial_condition_1a)\n",
    "animated_wave_sim.animate(frames=400, interval=5, save=False, filename='wave_propagation.mp4')"
   ]
  },
  {
   "cell_type": "code",
   "execution_count": null,
   "metadata": {},
   "outputs": [],
   "source": [
    "animated_wave_sim = AnimatedWaveSimulation(L=1, N=200, c=1, d_t=0.001)\n",
    "initial_condition_2a = lambda x: np.sin(5 * np.pi * x)\n",
    "animated_wave_sim.set_initial_condition(initial_condition_2a)\n",
    "animated_wave_sim.animate(frames=400, interval=5, save=False, filename='wave_propagation.mp4')"
   ]
  },
  {
   "cell_type": "code",
   "execution_count": null,
   "metadata": {},
   "outputs": [],
   "source": [
    "animated_wave_sim = AnimatedWaveSimulation(L=1, N=200, c=1, d_t=0.001)\n",
    "initial_condition_3a = lambda x: np.where((x > 1/5) & (x < 2/5), np.sin(5 * np.pi * x), 0)\n",
    "animated_wave_sim.set_initial_condition(initial_condition_3a)\n",
    "animated_wave_sim.animate(frames=400, interval=5, save=False, filename='wave_propagation.mp4')"
   ]
  },
  {
   "cell_type": "markdown",
   "metadata": {},
   "source": [
    "#### **Problem E**"
   ]
  },
  {
   "cell_type": "code",
   "execution_count": null,
   "metadata": {},
   "outputs": [],
   "source": [
    "D = 1\n",
    "N = 50\n",
    "dt = 0.0001\n",
    "time_points = [0.001, 0.01, 0.1, 1]\n",
    "\n",
    "simulation = DiffusionSimulation(D=D, N=N, dt=dt)\n",
    "simulation.compare_with_analytical(time_points)"
   ]
  },
  {
   "cell_type": "markdown",
   "metadata": {},
   "source": [
    "#### **Problem F**"
   ]
  },
  {
   "cell_type": "code",
   "execution_count": null,
   "metadata": {},
   "outputs": [],
   "source": [
    "simulation.visualize_2d_concentration(time_points)"
   ]
  },
  {
   "cell_type": "markdown",
   "metadata": {},
   "source": [
    "#### **Problem H**"
   ]
  },
  {
   "cell_type": "code",
   "execution_count": null,
   "metadata": {},
   "outputs": [],
   "source": [
    "N = 50\n",
    "solver = DiffusionSolver(N)\n",
    "\n",
    "print(\"Solving with Jacobi\")\n",
    "solver.jacobi_solve()\n",
    "jacobi_solution = np.copy(solver.grid)\n",
    "jacobi_rmse = solver.calculate_rmse(jacobi_solution)\n",
    "print(f\"RMSE Jacobi: {jacobi_rmse}\")\n",
    "solver.reset_grid()\n",
    "\n",
    "print(\"Solving with Gauss-Seidel...\")\n",
    "solver.gauss_seidel_solve()\n",
    "gauss_seidel_solution = np.copy(solver.grid)\n",
    "gauss_seidel_rmse = solver.calculate_rmse(gauss_seidel_solution)\n",
    "print(f\"RMSE Gauss-Seidel: {gauss_seidel_rmse}\")\n",
    "solver.reset_grid()\n",
    "\n",
    "omega = 1.8  \n",
    "print(\"Solving with SOR, omega =\", omega)\n",
    "solver.sor_solve(omega)\n",
    "sor_solution = np.copy(solver.grid)\n",
    "sor_rmse = solver.calculate_rmse(sor_solution)\n",
    "print(f\"RMSE SOR (omega={omega}): {sor_rmse}\")\n",
    "\n",
    "# For SOR the iteration number can be check in the last code snippet, have to comment out\n",
    "# print() in the main function due to last code snippets crowded output bu it does converges at 403"
   ]
  },
  {
   "cell_type": "markdown",
   "metadata": {},
   "source": [
    "#### **Problem I**"
   ]
  },
  {
   "cell_type": "code",
   "execution_count": null,
   "metadata": {},
   "outputs": [],
   "source": [
    "solver.reset_grid()\n",
    "solver.jacobi_solve(track_delta=True)\n",
    "jacobi_delta_history = solver.delta_history\n",
    "\n",
    "solver.reset_grid()\n",
    "solver.gauss_seidel_solve(track_delta=True)\n",
    "gauss_seidel_delta_history = solver.delta_history\n",
    "\n",
    "solver.reset_grid()\n",
    "solver.sor_solve(omega=1.8, track_delta=True)\n",
    "sor_delta_history = solver.delta_history\n",
    "\n",
    "plt.figure(figsize=(10, 6))\n",
    "plt.semilogy(jacobi_delta_history, label='Jacobi Method')\n",
    "plt.semilogy(gauss_seidel_delta_history, label='Gauss-Seidel Method')\n",
    "plt.semilogy(sor_delta_history, label=f'SOR Method (omega={1.8})')\n",
    "plt.xlabel('Iteration ($k$)')\n",
    "plt.ylabel('Max Change ($\\delta$)')\n",
    "plt.title('Convergence Measure $\\delta$ vs. Number of Iterations $k$')\n",
    "plt.legend()\n",
    "plt.grid(True, which=\"both\", ls=\"--\")\n",
    "plt.show()\n"
   ]
  },
  {
   "cell_type": "markdown",
   "metadata": {},
   "source": [
    "#### **Problem J**"
   ]
  },
  {
   "cell_type": "markdown",
   "metadata": {},
   "source": [
    "#### This one takes time around 8 mins"
   ]
  },
  {
   "cell_type": "code",
   "execution_count": null,
   "metadata": {},
   "outputs": [],
   "source": [
    "\n",
    "# this one takes a bit time to do them all, but it works, took me around 8 mins\n",
    "N_values = [20, 30, 40, 50, 60, 70, 80]  \n",
    "omega_start = 1.70\n",
    "omega_end = 2.0\n",
    "increment = 0.01\n",
    "max_iterations = 1000  \n",
    "\n",
    "\n",
    "optimal_omega_per_N = find_optimal_omega_per_N(N_values, omega_start, omega_end, increment, max_iterations=max_iterations)\n",
    "plot_optimal_omegas(optimal_omega_per_N)"
   ]
  },
  {
   "cell_type": "code",
   "execution_count": null,
   "metadata": {},
   "outputs": [],
   "source": []
  }
 ],
 "metadata": {
  "kernelspec": {
   "display_name": "Sc_Simulation",
   "language": "python",
   "name": "python3"
  },
  "language_info": {
   "codemirror_mode": {
    "name": "ipython",
    "version": 3
   },
   "file_extension": ".py",
   "mimetype": "text/x-python",
   "name": "python",
   "nbconvert_exporter": "python",
   "pygments_lexer": "ipython3",
   "version": "3.9.18"
  }
 },
 "nbformat": 4,
 "nbformat_minor": 2
}
