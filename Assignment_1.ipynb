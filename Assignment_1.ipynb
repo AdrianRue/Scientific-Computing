{
 "cells": [
  {
   "cell_type": "markdown",
   "metadata": {},
   "source": [
    "### **Assignment_1.1**"
   ]
  },
  {
   "cell_type": "code",
   "execution_count": null,
   "metadata": {
    "ExecuteTime": {
     "end_time": "2024-02-20T21:55:51.605108900Z",
     "start_time": "2024-02-20T21:55:51.589071300Z"
    }
   },
   "outputs": [],
   "source": [
    "%matplotlib widget"
   ]
  },
  {
   "cell_type": "code",
   "execution_count": null,
   "metadata": {
    "ExecuteTime": {
     "end_time": "2024-02-20T21:55:54.580396400Z",
     "start_time": "2024-02-20T21:55:54.421829400Z"
    }
   },
   "outputs": [],
   "source": [
    "import numpy as np\n",
    "from vibrating_string import WaveSimulation, AnimatedWaveSimulation\n",
    "from assignment_1_2 import DiffusionSimulation"
   ]
  },
  {
   "cell_type": "code",
   "execution_count": null,
   "metadata": {
    "ExecuteTime": {
     "end_time": "2024-02-20T21:56:04.913035600Z",
     "start_time": "2024-02-20T21:56:04.848086200Z"
    }
   },
   "outputs": [],
   "source": [
    "wave_sim = WaveSimulation(L=1, N=200, c=1, d_t=0.001)\n",
    "initial_condition_1 = lambda x: np.sin(2 * np.pi * x)\n",
    "wave_sim.set_initial_condition(initial_condition_1)\n",
    "plot_times = [0, 0.05, 0.1, 0.15, 0.199]\n",
    "wave_sim.plot(plot_times, title=\"Wave Propagation - $\\sin(2 \\pi x)$\")"
   ]
  },
  {
   "cell_type": "code",
   "execution_count": null,
   "metadata": {
    "ExecuteTime": {
     "end_time": "2024-02-20T20:26:45.485776800Z",
     "start_time": "2024-02-20T20:26:45.204241200Z"
    }
   },
   "outputs": [],
   "source": [
    "initial_condition_2 = lambda x: np.sin(5 * np.pi * x)\n",
    "wave_sim.set_initial_condition(initial_condition_2)\n",
    "plot_times = [0, 0.05, 0.1, 0.15, 0.199]\n",
    "wave_sim.plot(plot_times, title=\"Wave Propagation - $\\sin(5 \\pi x)$\")"
   ]
  },
  {
   "cell_type": "code",
   "execution_count": null,
   "metadata": {
    "ExecuteTime": {
     "end_time": "2024-02-20T20:26:47.796357Z",
     "start_time": "2024-02-20T20:26:47.533931600Z"
    }
   },
   "outputs": [],
   "source": [
    "initial_condition_3 = lambda x: np.where((x > 1/5) & (x < 2/5), np.sin(5 * np.pi * x), 0)\n",
    "wave_sim.set_initial_condition(initial_condition_3)\n",
    "plot_times = [0, 0.05, 0.1, 0.15, 0.199]\n",
    "wave_sim.plot(plot_times, title=\"Wave Propagation - $\\sin(5 \\pi x)$\")"
   ]
  },
  {
   "cell_type": "code",
   "execution_count": null,
   "metadata": {},
   "outputs": [],
   "source": [
    "# Initial condition one\n",
    "animated_wave_sim = AnimatedWaveSimulation(L=1, N=200, c=1, d_t=0.001)\n",
    "initial_condition_1a = lambda x: np.sin(2 * np.pi * x)\n",
    "animated_wave_sim.set_initial_condition(initial_condition_1a)\n",
    "animated_wave_sim.animate(frames=400, interval=5, save=False, filename='wave_propagation.mp4')"
   ]
  },
  {
   "cell_type": "code",
   "execution_count": null,
   "metadata": {},
   "outputs": [],
   "source": [
    "animated_wave_sim = AnimatedWaveSimulation(L=1, N=200, c=1, d_t=0.001)\n",
    "initial_condition_2a = lambda x: np.sin(5 * np.pi * x)\n",
    "animated_wave_sim.set_initial_condition(initial_condition_2a)\n",
    "animated_wave_sim.animate(frames=400, interval=5, save=False, filename='wave_propagation.mp4')"
   ]
  },
  {
   "cell_type": "code",
   "execution_count": null,
   "metadata": {},
   "outputs": [],
   "source": [
    "animated_wave_sim = AnimatedWaveSimulation(L=1, N=200, c=1, d_t=0.001)\n",
    "initial_condition_3a = lambda x: np.where((x > 1/5) & (x < 2/5), np.sin(5 * np.pi * x), 0)\n",
    "animated_wave_sim.set_initial_condition(initial_condition_3a)\n",
    "animated_wave_sim.animate(frames=400, interval=5, save=False, filename='wave_propagation.mp4')"
   ]
  },
  {
   "cell_type": "code",
   "execution_count": null,
   "metadata": {},
   "outputs": [],
   "source": [
    "D = 1\n",
    "dx = 0.05\n",
    "dt = 0.0001\n",
    "time_points = [0.001, 0.01, 0.1, 1]\n",
    "\n",
    "simulation = DiffusionSimulation(D=D, dx=dx, dt=dt)\n",
    "simulation.compare_with_analytical(time_points)"
   ]
  },
  {
   "cell_type": "code",
   "execution_count": null,
   "metadata": {},
   "outputs": [],
   "source": [
    "simulation.visualize_2d_concentration(time_points)"
   ]
  }
 ],
 "metadata": {
  "kernelspec": {
   "display_name": "Sc_Simulation",
   "language": "python",
   "name": "python3"
  },
  "language_info": {
   "codemirror_mode": {
    "name": "ipython",
    "version": 3
   },
   "file_extension": ".py",
   "mimetype": "text/x-python",
   "name": "python",
   "nbconvert_exporter": "python",
   "pygments_lexer": "ipython3",
   "version": "3.9.18"
  }
 },
 "nbformat": 4,
 "nbformat_minor": 2
}
